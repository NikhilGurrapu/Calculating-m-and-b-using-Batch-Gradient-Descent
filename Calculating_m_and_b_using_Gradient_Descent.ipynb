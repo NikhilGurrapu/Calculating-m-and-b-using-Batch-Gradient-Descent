{
  "nbformat": 4,
  "nbformat_minor": 0,
  "metadata": {
    "colab": {
      "provenance": [],
      "authorship_tag": "ABX9TyOskCknPvIRJoYE+GX9CL44",
      "include_colab_link": true
    },
    "kernelspec": {
      "name": "python3",
      "display_name": "Python 3"
    },
    "language_info": {
      "name": "python"
    }
  },
  "cells": [
    {
      "cell_type": "markdown",
      "metadata": {
        "id": "view-in-github",
        "colab_type": "text"
      },
      "source": [
        "<a href=\"https://colab.research.google.com/github/NikhilGurrapu/Calculating-m-and-b-using-Gradient-Descent/blob/main/Calculating_m_and_b_using_Gradient_Descent.ipynb\" target=\"_parent\"><img src=\"https://colab.research.google.com/assets/colab-badge.svg\" alt=\"Open In Colab\"/></a>"
      ]
    },
    {
      "cell_type": "markdown",
      "source": [
        "# Importing required Libraries"
      ],
      "metadata": {
        "id": "X8Z_oxj9zetU"
      }
    },
    {
      "cell_type": "code",
      "execution_count": 46,
      "metadata": {
        "id": "6gG2dY2TU4K6"
      },
      "outputs": [],
      "source": [
        "import numpy as np\n",
        "import matplotlib.pyplot as plt\n",
        "from sklearn.datasets import make_regression\n",
        "from sklearn.linear_model import LinearRegression\n",
        "from sklearn.model_selection import train_test_split\n",
        "from sklearn.metrics import r2_score"
      ]
    },
    {
      "cell_type": "markdown",
      "source": [
        "# Making a toy data"
      ],
      "metadata": {
        "id": "dqpT95cqzmaP"
      }
    },
    {
      "cell_type": "code",
      "source": [
        "X,y = make_regression(n_samples=100,n_features=1,n_informative=1,n_targets=1,noise=20,random_state=3)"
      ],
      "metadata": {
        "id": "ag29_Hl0uc-D"
      },
      "execution_count": 47,
      "outputs": []
    },
    {
      "cell_type": "code",
      "source": [
        "plt.scatter(X,y)"
      ],
      "metadata": {
        "colab": {
          "base_uri": "https://localhost:8080/",
          "height": 282
        },
        "id": "gGIQH0qPvqE9",
        "outputId": "f05905da-e266-46e9-eff3-079d2e60f1bf"
      },
      "execution_count": 48,
      "outputs": [
        {
          "output_type": "execute_result",
          "data": {
            "text/plain": [
              "<matplotlib.collections.PathCollection at 0x7f106f2c78e0>"
            ]
          },
          "metadata": {},
          "execution_count": 48
        },
        {
          "output_type": "display_data",
          "data": {
            "text/plain": [
              "<Figure size 432x288 with 1 Axes>"
            ],
            "image/png": "[encoded data removed]"
          },
          "metadata": {
            "needs_background": "light"
          }
        }
      ]
    },
    {
      "cell_type": "markdown",
      "source": [
        "# Splitting train and test set"
      ],
      "metadata": {
        "id": "xzLZTKbEzqz3"
      }
    },
    {
      "cell_type": "code",
      "source": [
        "X_train,X_test,y_train,y_test=train_test_split(X,y,test_size=20,random_state=3)"
      ],
      "metadata": {
        "id": "LVAV6vhDu519"
      },
      "execution_count": 49,
      "outputs": []
    },
    {
      "cell_type": "markdown",
      "source": [
        "# Building LinearRegression Model"
      ],
      "metadata": {
        "id": "Az-Piw3tzu5J"
      }
    },
    {
      "cell_type": "code",
      "source": [
        "lr=LinearRegression()\n",
        "lr.fit(X_train,y_train)\n",
        "y_pred=lr.predict(X_test)\n",
        "r2_score(y_test,y_pred)"
      ],
      "metadata": {
        "colab": {
          "base_uri": "https://localhost:8080/"
        },
        "id": "zz1kMDYJvEZ5",
        "outputId": "b9c85632-b96a-4e45-9e1f-b860c0b63faa"
      },
      "execution_count": 50,
      "outputs": [
        {
          "output_type": "execute_result",
          "data": {
            "text/plain": [
              "0.7725336605372812"
            ]
          },
          "metadata": {},
          "execution_count": 50
        }
      ]
    },
    {
      "cell_type": "code",
      "source": [
        "print(\"m: \",lr.coef_[0],\"\\nb: \",lr.intercept_)"
      ],
      "metadata": {
        "colab": {
          "base_uri": "https://localhost:8080/"
        },
        "id": "yxPieaaDynHv",
        "outputId": "7eef6709-0ae9-4018-8f4e-73fc1a284d53"
      },
      "execution_count": 51,
      "outputs": [
        {
          "output_type": "stream",
          "name": "stdout",
          "text": [
            "m:  28.333181031058288 \n",
            "b:  -0.9650052010683585\n"
          ]
        }
      ]
    },
    {
      "cell_type": "code",
      "source": [
        "plt.scatter(X,y)\n",
        "plt.plot(X,lr.predict(X),color='red')"
      ],
      "metadata": {
        "colab": {
          "base_uri": "https://localhost:8080/",
          "height": 282
        },
        "id": "BD6jFLPPvmW9",
        "outputId": "3090b336-8d04-4edd-ab10-dfc8cc871d1a"
      },
      "execution_count": 52,
      "outputs": [
        {
          "output_type": "execute_result",
          "data": {
            "text/plain": [
              "[<matplotlib.lines.Line2D at 0x7f107169c6a0>]"
            ]
          },
          "metadata": {},
          "execution_count": 52
        },
        {
          "output_type": "display_data",
          "data": {
            "text/plain": [
              "<Figure size 432x288 with 1 Axes>"
            ],
            "image/png": "[encoded data removed]"
          },
          "metadata": {
            "needs_background": "light"
          }
        }
      ]
    },
    {
      "cell_type": "markdown",
      "source": [
        "# Building own Gradient Descent Regression class"
      ],
      "metadata": {
        "id": "FMyricphz72N"
      }
    },
    {
      "cell_type": "code",
      "source": [
        "class GDRegressor:\n",
        "  def __init__(self,learning_rate,epochs):\n",
        "    self.m=1\n",
        "    self.b=0\n",
        "    self.lr=learning_rate\n",
        "    self.epochs=epochs\n",
        "  \n",
        "  def fit(self,X,y):\n",
        "    #Calculating m and b using GD\n",
        "    for i in range(self.epochs):\n",
        "      loss_slope_m=-2*np.sum((y-self.m*X.ravel() -self.b)*X.ravel())\n",
        "      loss_slope_b=-2*np.sum(y-self.m*X.ravel() -self.b)\n",
        "\n",
        "      self.m=self.m-(self.lr*loss_slope_m)\n",
        "      self.b=self.b-(self.lr*loss_slope_b)\n",
        "      \n",
        "    print(\"m: \",self.m,\"\\nb: \",self.b)\n",
        "  \n",
        "  def predict(self,X):\n",
        "    return self.m * X + self.b"
      ],
      "metadata": {
        "id": "Mj9wpjDGv8cT"
      },
      "execution_count": 53,
      "outputs": []
    },
    {
      "cell_type": "code",
      "source": [
        "gd = GDRegressor(0.01,65)"
      ],
      "metadata": {
        "id": "qDerk-3zyRi7"
      },
      "execution_count": 62,
      "outputs": []
    },
    {
      "cell_type": "code",
      "source": [
        "gd.fit(X_train,y_train)"
      ],
      "metadata": {
        "colab": {
          "base_uri": "https://localhost:8080/"
        },
        "id": "ls5yrxPKyaRZ",
        "outputId": "7828f23d-4918-491e-bc7f-eeb7538488e3"
      },
      "execution_count": 63,
      "outputs": [
        {
          "output_type": "stream",
          "name": "stdout",
          "text": [
            "m:  28.333209713744935 \n",
            "b:  -0.9650253689354078\n"
          ]
        }
      ]
    },
    {
      "cell_type": "code",
      "source": [
        "y_pred = gd.predict(X_test)\n",
        "r2_score(y_test,y_pred)"
      ],
      "metadata": {
        "colab": {
          "base_uri": "https://localhost:8080/"
        },
        "id": "7xGorEHnyd1v",
        "outputId": "56196bea-4e58-4f1f-b48b-5a817ad081ee"
      },
      "execution_count": 64,
      "outputs": [
        {
          "output_type": "execute_result",
          "data": {
            "text/plain": [
              "0.7725335268502368"
            ]
          },
          "metadata": {},
          "execution_count": 64
        }
      ]
    },
    {
      "cell_type": "code",
      "source": [
        "plt.figure(figsize=(12,10))\n",
        "plt.scatter(X,y)\n",
        "plt.plot(X_train,lr.predict(X_train),color='red',label='linear model')\n",
        "plt.plot(X_train,gd.predict(X_train),color='green',label='gradient descent')\n",
        "plt.legend()\n",
        "plt.show()"
      ],
      "metadata": {
        "colab": {
          "base_uri": "https://localhost:8080/",
          "height": 592
        },
        "id": "nplMpN8G0axF",
        "outputId": "09f54eb6-abcb-4830-b3c8-663876923e38"
      },
      "execution_count": 69,
      "outputs": [
        {
          "output_type": "display_data",
          "data": {
            "text/plain": [
              "<Figure size 864x720 with 1 Axes>"
            ],
            "image/png": "[encoded data removed]"
          },
          "metadata": {
            "needs_background": "light"
          }
        }
      ]
    },
    {
      "cell_type": "markdown",
      "source": [
        "## The Gradient Descent Regressor class generates values for 'm' and 'b' that closely resemble those produced by the Linear Regressor model, and the 'r2_score' is also identical. Consequently, the line generated by the Gradient Descent Regressor coincides with that of the Linear Regressor model."
      ],
      "metadata": {
        "id": "FN1zsi-W0F6z"
      }
    },
    {
      "cell_type": "code",
      "source": [],
      "metadata": {
        "id": "hkYmV2AH0ZdE"
      },
      "execution_count": null,
      "outputs": []
    }
  ]
}